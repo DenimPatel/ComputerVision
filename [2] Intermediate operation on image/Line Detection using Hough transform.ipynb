{
 "cells": [
  {
   "cell_type": "markdown",
   "metadata": {},
   "source": [
    "## CODE TO DETECT LINES IN IMAGE \n",
    "  "
   ]
  },
  {
   "cell_type": "code",
   "execution_count": 1,
   "metadata": {},
   "outputs": [],
   "source": [
    "import cv2\n",
    "import numpy as np\n",
    "import matplotlib.pyplot as plt"
   ]
  },
  {
   "cell_type": "code",
   "execution_count": 2,
   "metadata": {},
   "outputs": [],
   "source": [
    "image_calendar = cv2.imread('calendar.jpg')\n",
    "\n",
    "cv2.imshow('Given Image', image_calendar)\n",
    "cv2.waitKey(0)\n",
    "cv2.destroyAllWindows()"
   ]
  },
  {
   "cell_type": "code",
   "execution_count": 3,
   "metadata": {},
   "outputs": [
    {
     "data": {
      "text/plain": [
       "<matplotlib.image.AxesImage at 0x7f884df3e470>"
      ]
     },
     "execution_count": 3,
     "metadata": {},
     "output_type": "execute_result"
    },
    {
     "data": {
      "image/png": "[encoded data removed]",
      "text/plain": [
       "<Figure size 432x288 with 1 Axes>"
      ]
     },
     "metadata": {
      "needs_background": "light"
     },
     "output_type": "display_data"
    }
   ],
   "source": [
    "plt.imshow(image_calendar)"
   ]
  },
  {
   "cell_type": "code",
   "execution_count": 4,
   "metadata": {},
   "outputs": [
    {
     "data": {
      "text/plain": [
       "array([[255, 255, 255, ..., 255, 255, 255],\n",
       "       [255,   0,   0, ...,   0,   0, 255],\n",
       "       [255,   0,   0, ...,   0, 255,   0],\n",
       "       ..., \n",
       "       [255,   0,   0, ...,   0, 255,   0],\n",
       "       [255,   0,   0, ...,   0,   0, 255],\n",
       "       [255, 255, 255, ..., 255, 255, 255]], dtype=uint8)"
      ]
     },
     "execution_count": 4,
     "metadata": {},
     "output_type": "execute_result"
    }
   ],
   "source": [
    "# convert image to gray\n",
    "image_gray = cv2.cvtColor(image_calendar, cv2.COLOR_BGR2GRAY)\n",
    "# apply canny edge detector\n",
    "image_canny = cv2.Canny(image_gray, 50, 200, apertureSize = 3)\n",
    "image_canny"
   ]
  },
  {
   "cell_type": "code",
   "execution_count": 5,
   "metadata": {},
   "outputs": [],
   "source": [
    "cv2.imshow('canny image', image_canny)\n",
    "cv2.waitKey()\n",
    "cv2.destroyAllWindows()"
   ]
  },
  {
   "cell_type": "markdown",
   "metadata": {},
   "source": [
    "# we want to find the lines in the images\n",
    "\n",
    "## solution is Hough!\n",
    "\n",
    "for that we need points that are on edges and using them we can decide lines "
   ]
  },
  {
   "cell_type": "code",
   "execution_count": 6,
   "metadata": {},
   "outputs": [],
   "source": [
    "# rho accuracy of 1 pixel and theta accuracy of np.pi / 180 (1 degree)\n",
    "# threshold is number of points on line\n",
    "# Try 300, 400 and 500\n",
    "lines = cv2.HoughLines(image_canny, 1, np.pi/180, 300)"
   ]
  },
  {
   "cell_type": "code",
   "execution_count": 7,
   "metadata": {},
   "outputs": [
    {
     "data": {
      "text/plain": [
       "array([[[   0.        ,    1.57079637]],\n",
       "\n",
       "       [[ 481.        ,    1.57079637]],\n",
       "\n",
       "       [[ 105.        ,    1.57079637]],\n",
       "\n",
       "       [[ 107.        ,    1.57079637]],\n",
       "\n",
       "       [[ 198.        ,    1.57079637]],\n",
       "\n",
       "       [[ 200.        ,    1.57079637]],\n",
       "\n",
       "       [[ 261.        ,    1.57079637]],\n",
       "\n",
       "       [[ 263.        ,    1.57079637]],\n",
       "\n",
       "       [[ 389.        ,    1.57079637]],\n",
       "\n",
       "       [[ 391.        ,    1.57079637]],\n",
       "\n",
       "       [[ 453.        ,    1.57079637]],\n",
       "\n",
       "       [[ 455.        ,    1.57079637]],\n",
       "\n",
       "       [[ 136.        ,    1.57079637]],\n",
       "\n",
       "       [[ 133.        ,    1.57079637]],\n",
       "\n",
       "       [[   0.        ,    0.        ]],\n",
       "\n",
       "       [[ 325.        ,    1.57079637]],\n",
       "\n",
       "       [[ 327.        ,    1.57079637]],\n",
       "\n",
       "       [[ 624.        ,    0.        ]],\n",
       "\n",
       "       [[ 432.        ,    0.        ]],\n",
       "\n",
       "       [[ 194.        ,    0.        ]],\n",
       "\n",
       "       [[ 196.        ,    0.        ]],\n",
       "\n",
       "       [[ 430.        ,    0.        ]],\n",
       "\n",
       "       [[ 117.        ,    0.        ]],\n",
       "\n",
       "       [[ 272.        ,    0.        ]],\n",
       "\n",
       "       [[ 351.        ,    0.        ]],\n",
       "\n",
       "       [[ 274.        ,    0.        ]],\n",
       "\n",
       "       [[ 353.        ,    0.        ]],\n",
       "\n",
       "       [[ 115.        ,    0.        ]],\n",
       "\n",
       "       [[  36.        ,    0.        ]],\n",
       "\n",
       "       [[ 589.        ,    0.        ]]], dtype=float32)"
      ]
     },
     "execution_count": 7,
     "metadata": {},
     "output_type": "execute_result"
    }
   ],
   "source": [
    "lines\n",
    "# Note that 1.57 rad is 89.95437\n",
    "# Note that rho was the distance from the origin"
   ]
  },
  {
   "cell_type": "code",
   "execution_count": 11,
   "metadata": {},
   "outputs": [
    {
     "data": {
      "text/plain": [
       "30"
      ]
     },
     "execution_count": 11,
     "metadata": {},
     "output_type": "execute_result"
    }
   ],
   "source": [
    "len(lines)\n",
    "# no of lines found in the image"
   ]
  },
  {
   "cell_type": "code",
   "execution_count": 9,
   "metadata": {},
   "outputs": [
    {
     "data": {
      "text/plain": [
       "(30, 1, 2)"
      ]
     },
     "execution_count": 9,
     "metadata": {},
     "output_type": "execute_result"
    }
   ],
   "source": [
    "lines.shape"
   ]
  },
  {
   "cell_type": "code",
   "execution_count": 20,
   "metadata": {},
   "outputs": [
    {
     "name": "stdout",
     "output_type": "stream",
     "text": [
      "[[ 200.            1.57079637]]\n",
      "200.0\n",
      "1.5708\n"
     ]
    }
   ],
   "source": [
    "# contains rho and theta values that is distace and angle in polar co-ordinate\n",
    "print(lines[5]) \n",
    "print(lines[5][0][0])  # rho value\n",
    "print(lines[5][0][1])  # theta value in rad"
   ]
  },
  {
   "cell_type": "code",
   "execution_count": 24,
   "metadata": {},
   "outputs": [],
   "source": [
    " if lines is not None:\n",
    "        for i in range(0, len(lines)):\n",
    "            rho = lines[i][0][0]\n",
    "            theta = lines[i][0][1]\n",
    "            \n",
    "            a = np.cos(theta)\n",
    "            b = np.sin(theta)\n",
    "           \n",
    "            x0 = rho * a\n",
    "            y0 = rho * b\n",
    "            \n",
    "#             give two points to draw line passing through that two points\n",
    "            x1 = int(x0 + 1000 * (-b))\n",
    "            y1 = int(y0 + 1000 * (a))\n",
    "            \n",
    "            x2 = int(x0 - 1000 * (-b))\n",
    "            y2 = int(y0 - 1000 * (a))\n",
    "            cv2.line(image_calendar, (x1, y1), (x2, y2), (255, 0, 0), 2)\n",
    "            \n",
    "cv2.imshow('Hough Lines', image_calendar)\n",
    "cv2.waitKey()\n",
    "cv2.destroyAllWindows()"
   ]
  },
  {
   "cell_type": "code",
   "execution_count": 25,
   "metadata": {},
   "outputs": [
    {
     "data": {
      "text/plain": [
       "<matplotlib.image.AxesImage at 0x7f88445df470>"
      ]
     },
     "execution_count": 25,
     "metadata": {},
     "output_type": "execute_result"
    },
    {
     "data": {
      "image/png": "[encoded data removed]",
      "text/plain": [
       "<Figure size 432x288 with 1 Axes>"
      ]
     },
     "metadata": {
      "needs_background": "light"
     },
     "output_type": "display_data"
    }
   ],
   "source": [
    "plt.imshow(image_calendar)"
   ]
  }
 ],
 "metadata": {
  "kernelspec": {
   "display_name": "Python 3",
   "language": "python",
   "name": "python3"
  },
  "language_info": {
   "codemirror_mode": {
    "name": "ipython",
    "version": 3
   },
   "file_extension": ".py",
   "mimetype": "text/x-python",
   "name": "python",
   "nbconvert_exporter": "python",
   "pygments_lexer": "ipython3",
   "version": "3.6.0"
  },
  "widgets": {
   "state": {},
   "version": "1.1.2"
  }
 },
 "nbformat": 4,
 "nbformat_minor": 1
}
